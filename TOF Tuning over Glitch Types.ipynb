{
 "cells": [
  {
   "cell_type": "code",
   "execution_count": null,
   "metadata": {
    "Collapsed": "false"
   },
   "outputs": [],
   "source": [
    "%matplotlib inline\n",
    "import numpy as np\n",
    "\n",
    "from random import randint\n",
    "from _thread import start_new_thread\n",
    "from time import sleep, time\n",
    "\n",
    "from matplotlib import pyplot as plt\n",
    "from tqdm.notebook import tqdm\n",
    "\n",
    "from ts_outlier_detection import *\n",
    "from ts_outlier_detection.plotting import *\n",
    "from utils import *\n",
    "\n",
    "def insert_event_data(target, failures, det, gps_time, start, retries=2):\n",
    "    try:\n",
    "        target.append([\n",
    "            get_processed_event(det, gps_time, length=2, bp=[(20, 300)])[0],\n",
    "            gps_time\n",
    "        ])\n",
    "        print(f'Fetched {len(target)} events after {round(time()-start, 2)} seconds')\n",
    "    except Exception as e:\n",
    "        print(f'Error fetching event from {det} at {gps_time}: {e}')\n",
    "        if retries > 0:\n",
    "            print(f'Retrying {retries-1} more times')\n",
    "            sleep(randint(0, 15))\n",
    "            insert_event_data(target, failures, det, gps_time, start, retries=retries-1)\n",
    "        else:\n",
    "            print('No more retries')\n",
    "            failures.append(gps_time)\n",
    "\n",
    "## Gradient descent function\n",
    "\n",
    "def gradient_descent(\n",
    "    params, learning_rate, training_set, loss_function,\n",
    "    epochs=3, batch_size=5, max_iter=100, seed=42, threshold=1e-4\n",
    "):\n",
    "    rng = np.random.default_rng(seed)\n",
    "    for epoch in range(epochs):\n",
    "        print(f'Starting training epoch {epoch+1}/{epochs}')\n",
    "        rng.shuffle(training_set)\n",
    "        avg_losses = []\n",
    "\n",
    "        for i in tqdm(range(0, len(training_set), batch_size)):\n",
    "            for _ in range(max_iter):\n",
    "                grad = np.zeros(3)\n",
    "                batch_loss = 0\n",
    "\n",
    "                for ts, actual in training_set[i:i+batch_size]:\n",
    "                    data = ts.value\n",
    "                    times = ts.times.value\n",
    "\n",
    "                    def loss(d, n, e):\n",
    "                        ctof = TemporalOutlierFactor(dims=d, n_neighbors=n, event_length=e)\n",
    "                        ctof.fit(data, times)\n",
    "                        return loss_function(actual, times[ctof.get_outlier_indices()])\n",
    "\n",
    "                    batch_loss += loss(*params)\n",
    "                    grad += estimate_gradient(loss, params, eps=1)\n",
    "\n",
    "                grad /= batch_size\n",
    "                avg_losses.append(batch_loss/batch_size)\n",
    "                delta = (learning_rate * grad).astype(int)\n",
    "                if np.max(np.abs(delta)) < threshold:\n",
    "                    break\n",
    "                params -= delta\n",
    "                for i in range(params.size):\n",
    "                    if params[i] < 2:\n",
    "                        params[i] = 2\n",
    "    \n",
    "        fig, ax = plt.subplots(1, 1, figsize=(10,6))\n",
    "        ax.set_title(f'Epoch {epoch+1} losses')\n",
    "        ax.plot(np.arange(len(avg_losses)), avg_losses, 'k.')\n",
    "        ax.set_xlabel('Batch number')\n",
    "        ax.set_ylabel('Average loss over batch')\n",
    "        ax.grid(True)\n",
    "        print(f'Current optimal parameters: {params}')\n",
    "        \n",
    "    return params"
   ]
  },
  {
   "cell_type": "code",
   "execution_count": 20,
   "metadata": {
    "Collapsed": "false"
   },
   "outputs": [
    {
     "name": "stdout",
     "output_type": "stream",
     "text": [
      "H1 has 999 Fast Scattering glitches\n",
      "H1 has 100 Koi Fish glitches\n",
      "H1 has 999 Scattered Light glitches\n",
      "L1 has 999 Fast Scattering glitches\n",
      "L1 has 100 Koi Fish glitches\n",
      "L1 has 999 Scattered Light glitches\n"
     ]
    }
   ],
   "source": [
    "from pandas import read_csv\n",
    "\n",
    "time_header = 'GPStime'\n",
    "fast_scattering = 'Fast Scattering'\n",
    "koi_fish = 'Koi Fish'\n",
    "scattered_light = 'Scattered Light'\n",
    "\n",
    "h1_fast_scattering_df = read_csv('data/H1_ Fast scattering - Sheet1 (1).csv')\n",
    "h1_koi_fish_df =        read_csv('data/H1_ Koi Fish - gspy (7) (2).csv')\n",
    "h1_scattered_light_df = read_csv('data/H1_ Scattered light - gspy (1).csv')\n",
    "l1_fast_scattering_df = read_csv('data/L1_ Fast-scattering - gspy (6) (1).csv')\n",
    "l1_koi_fish_df =        read_csv('data/L1_ Koi Fish - Sheet1 (1).csv')\n",
    "l1_scattered_light_df = read_csv('data/L1_ Scattered Light - gspy (1) (1).csv')\n",
    "\n",
    "H1_GLITCHES = {\n",
    "    fast_scattering: h1_fast_scattering_df[time_header].to_numpy(),\n",
    "    koi_fish:        h1_koi_fish_df[time_header].to_numpy(),\n",
    "    scattered_light: h1_scattered_light_df[time_header].to_numpy()\n",
    "}\n",
    "\n",
    "L1_GLITCHES = {\n",
    "    fast_scattering: l1_fast_scattering_df[time_header].to_numpy(),\n",
    "    koi_fish:        l1_koi_fish_df[time_header].to_numpy(),\n",
    "    scattered_light: l1_scattered_light_df[time_header].to_numpy()\n",
    "}\n",
    "\n",
    "ALL_GLITCHES = {'H1': H1_GLITCHES, 'L1': L1_GLITCHES}\n",
    "\n",
    "for det, glitches in ALL_GLITCHES.items():\n",
    "    for kind, times in glitches.items():\n",
    "        print(f'{det} has {times.size} {kind} glitches')"
   ]
  },
  {
   "cell_type": "code",
   "execution_count": 5,
   "metadata": {
    "Collapsed": "false"
   },
   "outputs": [
    {
     "name": "stdout",
     "output_type": "stream",
     "text": [
      "Fetching Koi Fish events from H1\n",
      "Fetching Koi Fish events from L1\n",
      "Fetched 1 events after 30.6 seconds\n",
      "Fetched 2 events after 48.1 seconds\n",
      "Fetched 3 events after 64.69 seconds\n",
      "Fetched 4 events after 87.99 seconds\n",
      "Fetched 5 events after 114.1 seconds\n",
      "Fetched 6 events after 114.4 seconds\n",
      "Fetched 7 events after 138.29 seconds\n",
      "Fetched 8 events after 161.9 seconds\n",
      "Fetched 9 events after 189.3 seconds\n",
      "Fetched 10 events after 189.49 seconds\n",
      "Fetched 11 events after 209.39 seconds\n",
      "Fetched 12 events after 228.54 seconds\n",
      "Fetched 13 events after 254.79 seconds\n",
      "Fetched 14 events after 254.9 seconds\n",
      "Fetched 15 events after 267.99 seconds\n",
      "Fetched 16 events after 280.49 seconds\n",
      "Fetched 17 events after 294.39 seconds\n",
      "Fetched 18 events after 304.01 seconds\n",
      "Fetched 19 events after 327.0 seconds\n",
      "Fetched 20 events after 352.19 seconds\n",
      "Fetched 21 events after 371.79 seconds\n",
      "Fetched 22 events after 371.9 seconds\n",
      "Fetched 23 events after 403.6 seconds\n",
      "Fetched 24 events after 415.5 seconds\n",
      "Fetched 25 events after 415.9 seconds\n",
      "Fetched 26 events after 447.8 seconds\n",
      "Fetched 27 events after 448.08 seconds\n",
      "Error fetching event from H1 at 1252684863.15: <urlopen error _ssl.c:1108: The handshake operation timed out>\n",
      "No more retries\n",
      "Fetched 28 events after 514.49 seconds\n",
      "Fetched 29 events after 514.5 seconds\n",
      "Fetched 30 events after 514.59 seconds\n",
      "Fetched 31 events after 514.71 seconds\n",
      "Fetched 32 events after 532.4 seconds\n",
      "Fetched 33 events after 549.39 seconds\n",
      "Fetched 34 events after 567.78 secondsFetched 35 events after 568.01 seconds\n",
      "\n",
      "Fetched 36 events after 595.59 seconds\n",
      "Fetched 37 events after 596.0 seconds\n",
      "Fetched 38 events after 608.0 seconds\n",
      "Fetched 39 events after 621.2 seconds\n",
      "Fetched 40 events after 632.5 seconds\n",
      "Fetched 41 events after 646.89 secondsFetched 42 events after 646.89 seconds\n",
      "\n",
      "Fetched 43 events after 660.11 seconds\n",
      "Fetched 44 events after 660.21 seconds\n",
      "Fetched 45 events after 663.33 seconds\n",
      "Fetched 46 events after 666.43 seconds\n",
      "Fetched 47 events after 670.32 seconds\n",
      "Fetched 48 events after 702.1 seconds\n",
      "Error fetching event from H1 at 1252975758.3960001: <urlopen error _ssl.c:1108: The handshake operation timed out>\n",
      "No more retries\n",
      "Fetched 49 events after 726.59 seconds\n",
      "Fetched 50 events after 743.09 seconds\n",
      "Fetched 51 events after 774.09 seconds\n",
      "Fetched 52 events after 774.6 seconds\n",
      "Fetched 53 events after 829.6 seconds\n",
      "Fetched 54 events after 829.6 seconds\n",
      "Fetched 55 events after 830.29 seconds\n",
      "Fetched 56 events after 862.5 seconds\n",
      "Fetched 57 events after 863.0 seconds\n",
      "Fetched 58 events after 882.38 seconds\n",
      "Fetched 59 events after 915.4 seconds\n",
      "Fetched 60 events after 915.59 seconds\n",
      "Fetched 61 events after 915.59 seconds\n",
      "Fetched 62 events after 937.3 seconds\n",
      "Error fetching event from H1 at 1253442552.838: <urlopen error _ssl.c:1108: The handshake operation timed out>\n",
      "No more retries\n",
      "Fetched 63 events after 967.68 seconds\n",
      "Fetched 64 events after 968.19 seconds\n",
      "Fetched 65 events after 1001.39 seconds\n",
      "Fetched 66 events after 1001.69 seconds\n",
      "Fetched 67 events after 1016.5 seconds\n",
      "Fetched 68 events after 1038.7 seconds\n",
      "Error fetching event from H1 at 1247975599.5180001: <urlopen error _ssl.c:1108: The handshake operation timed out>\n",
      "No more retries\n",
      "Fetched 69 events after 1076.2 seconds\n",
      "Fetched 70 events after 1076.3 seconds\n",
      "Fetched 71 events after 1076.49 seconds\n",
      "Fetched 72 events after 1102.9 seconds\n",
      "Fetched 73 events after 1112.39 seconds\n",
      "Fetched 74 events after 1161.0 seconds\n",
      "Fetched 75 events after 1161.5 seconds\n",
      "Fetched 76 events after 1162.0 seconds\n",
      "Fetched 77 events after 1202.0 seconds\n",
      "Fetched 78 events after 1214.01 seconds\n",
      "Fetched 79 events after 1234.1 seconds\n",
      "Fetched 80 events after 1271.3 seconds\n",
      "Fetched 81 events after 1271.59 seconds\n",
      "Fetched 82 events after 1271.79 seconds\n",
      "Fetched 83 events after 1289.3 seconds\n",
      "Error fetching event from H1 at 1239161643.92: <urlopen error _ssl.c:1108: The handshake operation timed out>\n",
      "No more retries\n",
      "Fetched 84 events after 1345.6 seconds\n",
      "Fetched 85 events after 1345.71 seconds\n",
      "Fetched 86 events after 1345.9 seconds\n",
      "Fetched 87 events after 1365.09 seconds\n",
      "Fetched 88 events after 1396.69 seconds\n",
      "Fetched 89 events after 1405.0 seconds\n",
      "Fetched 90 events after 1414.39 seconds\n",
      "Fetched 91 events after 1431.7 seconds\n",
      "Fetched 92 events after 1454.59 seconds\n",
      "Fetched 93 events after 1464.5 seconds\n",
      "Fetched 94 events after 1478.79 seconds\n",
      "Fetched 95 events after 1488.99 seconds\n",
      "Fetched 96 events after 1505.8 seconds\n",
      "Fetched 97 events after 1520.09 seconds\n",
      "Fetched 98 events after 1556.39 seconds\n",
      "Fetched 99 events after 1571.0 seconds\n",
      "Fetched 100 events after 1571.29 seconds\n",
      "Fetched 101 events after 1589.9 seconds\n",
      "Fetched 102 events after 1606.6 seconds\n",
      "Fetched 103 events after 1619.09 seconds\n",
      "Fetched 104 events after 1647.59 seconds\n",
      "Fetched 105 events after 1647.69 secondsFetched 106 events after 1647.7 seconds\n",
      "\n",
      "Fetched 107 events after 1660.0 seconds\n",
      "Fetched 108 events after 1679.19 seconds\n",
      "Fetched 109 events after 1696.59 seconds\n",
      "Fetched 110 events after 1703.59 seconds\n",
      "Fetched 111 events after 1704.0 seconds\n",
      "Fetched 112 events after 1718.29 seconds\n",
      "Fetched 113 events after 1727.0 seconds\n",
      "Fetched 114 events after 1727.01 seconds\n",
      "Fetched 115 events after 1731.51 seconds\n",
      "Fetched 116 events after 1734.54 seconds\n",
      "Fetched 117 events after 1736.09 seconds\n",
      "Fetched 118 events after 1740.59 seconds\n",
      "Fetched 119 events after 1749.73 seconds\n",
      "Fetched 120 events after 1761.14 seconds\n",
      "Fetched 121 events after 1770.75 seconds\n",
      "Fetched 122 events after 1781.38 seconds\n",
      "Fetched 123 events after 1792.48 seconds\n",
      "Fetched 124 events after 1800.55 seconds\n",
      "Fetched 125 events after 1810.88 seconds\n",
      "Fetched 126 events after 1821.38 seconds\n",
      "Fetched 127 events after 1830.15 seconds\n",
      "Fetched 128 events after 1840.43 seconds\n",
      "Fetched 129 events after 1850.78 seconds\n",
      "Fetched 130 events after 1861.06 seconds\n",
      "Fetched 131 events after 1870.82 seconds\n",
      "Fetched 132 events after 1881.45 seconds\n",
      "Fetched 133 events after 1890.69 seconds\n",
      "Fetched 134 events after 1900.72 seconds\n",
      "Fetched 135 events after 1910.74 seconds\n",
      "Fetched 136 events after 1921.16 seconds\n",
      "Fetched 137 events after 1929.82 seconds\n",
      "Fetched 138 events after 1940.74 seconds\n",
      "Fetched 139 events after 1951.44 seconds\n",
      "Fetched 140 events after 1961.18 seconds\n",
      "Fetched 141 events after 1972.01 seconds\n",
      "Fetched 142 events after 1981.72 seconds\n",
      "Fetched 143 events after 1991.1 seconds\n",
      "Fetched 144 events after 2001.16 seconds\n",
      "Fetched 145 events after 2010.84 seconds\n",
      "Fetched 146 events after 2020.66 seconds\n",
      "Fetched 147 events after 2046.59 seconds\n",
      "Fetched 148 events after 2080.49 seconds\n",
      "Fetched 149 events after 2094.59 seconds\n",
      "Fetched 150 events after 2118.2 seconds\n",
      "Fetched 151 events after 2146.7 seconds\n",
      "Fetched 152 events after 2172.79 seconds\n",
      "Fetched 153 events after 2183.48 seconds\n",
      "Fetched 154 events after 2191.5 seconds\n",
      "Fetched 155 events after 2207.0 seconds\n",
      "Fetched 156 events after 2219.49 seconds\n",
      "Fetched 157 events after 2239.7 seconds\n",
      "Fetched 158 events after 2257.1 seconds\n",
      "Fetched 159 events after 2267.68 seconds\n",
      "Fetched 160 events after 2288.1 seconds\n",
      "Fetched 161 events after 2294.9 seconds\n",
      "Fetched 162 events after 2314.39 seconds\n",
      "Fetched 163 events after 2324.61 seconds\n",
      "Fetched 164 events after 2352.48 seconds\n",
      "Fetched 165 events after 2378.29 seconds\n",
      "Fetched 166 events after 2390.78 seconds\n",
      "Fetched 167 events after 2401.89 seconds\n",
      "Fetched 168 events after 2423.09 seconds\n",
      "Fetched 169 events after 2441.89 seconds\n",
      "Fetched 170 events after 2455.9 seconds\n",
      "Fetched 171 events after 2468.7 seconds\n",
      "Fetched 172 events after 2691.29 seconds\n",
      "Error fetching event from L1 at 1246383169.804: <urlopen error File was supposed to be 129868553 bytes but we only got 56442880 bytes. Download failed.>\n",
      "No more retries\n",
      "Error fetching event from L1 at 1247781415.4: <urlopen error File was supposed to be 129980530 bytes but we only got 69304320 bytes. Download failed.>\n",
      "No more retries\n",
      "Error fetching event from L1 at 1248324351.032: <urlopen error File was supposed to be 129975015 bytes but we only got 124043264 bytes. Download failed.>\n",
      "No more retries\n",
      "Fetched 173 events after 2709.21 seconds\n",
      "Fetched 174 events after 2729.0 seconds\n",
      "Fetched 175 events after 2769.8 secondsFetched 176 events after 2769.8 seconds\n",
      "\n",
      "Fetched 177 events after 2769.89 seconds\n",
      "Fetched 178 events after 2778.39 seconds\n",
      "Fetched 179 events after 2794.79 seconds\n",
      "Fetched 180 events after 2815.49 seconds\n",
      "Fetched 181 events after 2829.05 seconds\n",
      "Fetched 182 events after 2849.6 seconds\n",
      "Fetched 183 events after 2858.59 seconds\n",
      "Fetched 184 events after 2872.01 seconds\n",
      "Error fetching event from L1 at 1253650146.409: The read operation timed out\n",
      "No more retries\n",
      "Error fetching event from L1 at 1249639153.9889998: The read operation timed out\n",
      "No more retries\n",
      "Error fetching event from L1 at 1242309336.852: The read operation timed out\n",
      "No more retries\n",
      "Error fetching event from L1 at 1244881861.939: The read operation timed out\n",
      "No more retries\n",
      "Error fetching event from L1 at 1242077140.592: The read operation timed out\n",
      "No more retries\n",
      "Fetched 185 events after 2932.49 seconds\n",
      "Fetched 186 events after 2940.3 seconds\n"
     ]
    }
   ],
   "source": [
    "## Koi Fish\n",
    "\n",
    "koi_fish_times = []\n",
    "for det, glitches in ALL_GLITCHES.items():\n",
    "    print(f'Fetching {koi_fish} events from {det}')\n",
    "    koi_fish_times.extend([(det, glitch) for glitch in glitches[koi_fish]])\n",
    "\n",
    "koi_fish_ts = []\n",
    "koi_fish_failed_times = []\n",
    "\n",
    "start = time()\n",
    "for det, gps_time in koi_fish_times:\n",
    "    start_new_thread(insert_event_data, (koi_fish_ts, failed_times, det, gps_time, start, 0))\n",
    "    sleep(10)\n",
    "\n",
    "training_size = 0.8\n",
    "split_idx = int(training_size*len(koi_fish_ts))\n",
    "training_set = koi_fish_ts[:split_idx]\n",
    "test_set = koi_fish_ts[split_idx:]"
   ]
  },
  {
   "cell_type": "code",
   "execution_count": 11,
   "metadata": {
    "Collapsed": "false"
   },
   "outputs": [
    {
     "name": "stdout",
     "output_type": "stream",
     "text": [
      "Starting training epoch 1/3\n"
     ]
    },
    {
     "name": "stderr",
     "output_type": "stream",
     "text": [
      "/cvmfs/oasis.opensciencegrid.org/ligo/sw/conda/envs/igwn-py38/lib/python3.8/site-packages/numpy/core/_asarray.py:83: VisibleDeprecationWarning: Creating an ndarray from ragged nested sequences (which is a list-or-tuple of lists-or-tuples-or ndarrays with different lengths or shapes) is deprecated. If you meant to do this, you must specify 'dtype=object' when creating the ndarray\n",
      "  return array(a, dtype, copy=False, order=order)\n"
     ]
    },
    {
     "data": {
      "application/vnd.jupyter.widget-view+json": {
       "model_id": "c16f99bdd9024799943464641f501816",
       "version_major": 2,
       "version_minor": 0
      },
      "text/plain": [
       "HBox(children=(FloatProgress(value=0.0, max=30.0), HTML(value='')))"
      ]
     },
     "metadata": {},
     "output_type": "display_data"
    },
    {
     "name": "stdout",
     "output_type": "stream",
     "text": [
      "\n",
      "Current optimal parameters: [   2  114 1016]\n",
      "Starting training epoch 2/3\n"
     ]
    },
    {
     "name": "stderr",
     "output_type": "stream",
     "text": [
      "/cvmfs/oasis.opensciencegrid.org/ligo/sw/conda/envs/igwn-py38/lib/python3.8/site-packages/numpy/core/_asarray.py:83: VisibleDeprecationWarning: Creating an ndarray from ragged nested sequences (which is a list-or-tuple of lists-or-tuples-or ndarrays with different lengths or shapes) is deprecated. If you meant to do this, you must specify 'dtype=object' when creating the ndarray\n",
      "  return array(a, dtype, copy=False, order=order)\n"
     ]
    },
    {
     "data": {
      "application/vnd.jupyter.widget-view+json": {
       "model_id": "1fac0c4f2eae46288a41d8a9266f0285",
       "version_major": 2,
       "version_minor": 0
      },
      "text/plain": [
       "HBox(children=(FloatProgress(value=0.0, max=30.0), HTML(value='')))"
      ]
     },
     "metadata": {},
     "output_type": "display_data"
    },
    {
     "name": "stdout",
     "output_type": "stream",
     "text": [
      "\n",
      "Current optimal parameters: [   2  114 1016]\n",
      "Starting training epoch 3/3\n"
     ]
    },
    {
     "name": "stderr",
     "output_type": "stream",
     "text": [
      "/cvmfs/oasis.opensciencegrid.org/ligo/sw/conda/envs/igwn-py38/lib/python3.8/site-packages/numpy/core/_asarray.py:83: VisibleDeprecationWarning: Creating an ndarray from ragged nested sequences (which is a list-or-tuple of lists-or-tuples-or ndarrays with different lengths or shapes) is deprecated. If you meant to do this, you must specify 'dtype=object' when creating the ndarray\n",
      "  return array(a, dtype, copy=False, order=order)\n"
     ]
    },
    {
     "data": {
      "application/vnd.jupyter.widget-view+json": {
       "model_id": "6eeb3b0c80f744a79b8a54ad869edcb7",
       "version_major": 2,
       "version_minor": 0
      },
      "text/plain": [
       "HBox(children=(FloatProgress(value=0.0, max=30.0), HTML(value='')))"
      ]
     },
     "metadata": {},
     "output_type": "display_data"
    },
    {
     "name": "stdout",
     "output_type": "stream",
     "text": [
      "\n",
      "Current optimal parameters: [   2  114 1016]\n"
     ]
    },
    {
     "data": {
      "image/png": "[encoded data removed]",
      "text/plain": [
       "<Figure size 720x432 with 1 Axes>"
      ]
     },
     "metadata": {
      "needs_background": "light"
     },
     "output_type": "display_data"
    },
    {
     "data": {
      "image/png": "[encoded data removed]",
      "text/plain": [
       "<Figure size 720x432 with 1 Axes>"
      ]
     },
     "metadata": {
      "needs_background": "light"
     },
     "output_type": "display_data"
    },
    {
     "data": {
      "image/png": "[encoded data removed]",
      "text/plain": [
       "<Figure size 720x432 with 1 Axes>"
      ]
     },
     "metadata": {
      "needs_background": "light"
     },
     "output_type": "display_data"
    }
   ],
   "source": [
    "### Parameters to optimize (dims, n_neighbors, event_length)\n",
    "params = np.array([3, 4, 1024]) # initial values\n",
    "learning_rate = np.array([3, 3, 30])\n",
    "###\n",
    "\n",
    "## Gradient descent\n",
    "best_dims, best_k, best_length = gradient_descent(\n",
    "    params, learning_rate, training_set, diff_loss,\n",
    "    epochs=3, batch_size=5, max_iter=100, seed=42\n",
    ")"
   ]
  },
  {
   "cell_type": "code",
   "execution_count": null,
   "metadata": {
    "Collapsed": "false"
   },
   "outputs": [],
   "source": [
    "## Testing\n",
    "optimal_tof = TemporalOutlierFactor(dims=best_dims, n_neighbors=best_k, event_length=best_length)\n",
    "\n"
   ]
  },
  {
   "cell_type": "code",
   "execution_count": null,
   "metadata": {
    "Collapsed": "false"
   },
   "outputs": [],
   "source": [
    "## Fast Scattering\n",
    "\n",
    "fast_scattering_times = []\n",
    "for det, glitches in ALL_GLITCHES.items():\n",
    "    print(f'Fetching {fast_scattering} events from {det}')\n",
    "    fast_scattering_times.extend([(det, glitch) for glitch in glitches[fast_scattering]])\n",
    "\n",
    "fast_scattering_ts = []\n",
    "fast_scattering_failed_times = []\n",
    "\n",
    "start = time()\n",
    "for det, gps_time in fast_scattering_times:\n",
    "    start_new_thread(insert_event_data, (fast_scattering_ts, fast_scattering_failed_times, det, gps_time, start, 3))\n",
    "\n",
    "training_size = 0.8\n",
    "split_idx = int(training_size*len(fast_scattering_ts))\n",
    "training_set = fast_scattering_ts[:split_idx]\n",
    "test_set = fast_scattering_ts[split_idx:]"
   ]
  },
  {
   "cell_type": "code",
   "execution_count": null,
   "metadata": {
    "Collapsed": "false"
   },
   "outputs": [],
   "source": []
  }
 ],
 "metadata": {
  "kernelspec": {
   "display_name": "igwn-py38",
   "language": "python",
   "name": "igwn-py38"
  },
  "language_info": {
   "codemirror_mode": {
    "name": "ipython",
    "version": 3
   },
   "file_extension": ".py",
   "mimetype": "text/x-python",
   "name": "python",
   "nbconvert_exporter": "python",
   "pygments_lexer": "ipython3",
   "version": "3.8.8"
  }
 },
 "nbformat": 4,
 "nbformat_minor": 5
}
